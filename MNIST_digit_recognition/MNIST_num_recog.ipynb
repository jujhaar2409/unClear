{
  "nbformat": 4,
  "nbformat_minor": 0,
  "metadata": {
    "accelerator": "GPU",
    "colab": {
      "name": "MNIST_num_recog.ipynb",
      "provenance": [],
      "collapsed_sections": [],
      "toc_visible": true,
      "include_colab_link": true
    },
    "kernelspec": {
      "display_name": "Python 3",
      "name": "python3"
    }
  },
  "cells": [
    {
      "cell_type": "markdown",
      "metadata": {
        "id": "view-in-github",
        "colab_type": "text"
      },
      "source": [
        "<a href=\"https://colab.research.google.com/github/jujhaar2409/unClear/blob/master/assignments/MNIST_num_recog.ipynb\" target=\"_parent\"><img src=\"https://colab.research.google.com/assets/colab-badge.svg\" alt=\"Open In Colab\"/></a>"
      ]
    },
    {
      "cell_type": "markdown",
      "metadata": {
        "id": "FE7KNzPPVrVV"
      },
      "source": [
        "# MNIST numbers recognition"
      ]
    },
    {
      "cell_type": "markdown",
      "metadata": {
        "id": "4dTwUS6JiI6G"
      },
      "source": [
        "## Importing some packages that we will be using"
      ]
    },
    {
      "cell_type": "code",
      "metadata": {
        "id": "in3OdvpUG_9_"
      },
      "source": [
        "import tensorflow as tf\n",
        "import os\n",
        "import io\n",
        "import numpy as np\n",
        "import pandas as pd\n",
        "import matplotlib.pyplot as plt"
      ],
      "execution_count": 2,
      "outputs": []
    },
    {
      "cell_type": "markdown",
      "metadata": {
        "id": "UZZI6lNkVrVm"
      },
      "source": [
        "## Loading Data\n",
        "\n",
        "### Getting raw data from google  drive"
      ]
    },
    {
      "cell_type": "code",
      "metadata": {
        "colab": {
          "base_uri": "https://localhost:8080/"
        },
        "id": "EcRRUrilTSG4",
        "outputId": "8b6b9f27-3719-4991-df21-f860beafb56c"
      },
      "source": [
        "from google.colab import drive\n",
        "drive.mount('/content/drive')\n",
        "testdf = pd.read_csv(\"/content/drive/MyDrive/Colab Notebooks/test.csv\")\n",
        "traindf = pd.read_csv(\"/content/drive/MyDrive/Colab Notebooks/train.csv\")"
      ],
      "execution_count": 3,
      "outputs": [
        {
          "output_type": "stream",
          "text": [
            "Mounted at /content/drive\n"
          ],
          "name": "stdout"
        }
      ]
    },
    {
      "cell_type": "markdown",
      "metadata": {
        "id": "GLwM3wtFgeo1"
      },
      "source": [
        "### Formatting data correctly\n",
        "\n",
        "The data must be in the correct shape(ie, no. of items, 28, 28, 1) and must be normalized so that each pixel value lies between 0 and 1."
      ]
    },
    {
      "cell_type": "code",
      "metadata": {
        "id": "nSlSyT4jGZLQ"
      },
      "source": [
        "y_train = np.array(traindf.iloc[:, 0].values)\n",
        "\n",
        "x_train = np.array(traindf.iloc[:, 1:].values)\n",
        "x_train = np.reshape(x_train, (len(x_train), 28, 28, 1))\n",
        "x_train_normalized = x_train / 255\n",
        "\n",
        "x_test = np.array(testdf.iloc[:, :].values)\n",
        "x_test = np.reshape(x_test, (len(x_test), 28, 28, 1))\n",
        "x_test_normalized = x_test / 255"
      ],
      "execution_count": 83,
      "outputs": []
    },
    {
      "cell_type": "markdown",
      "metadata": {
        "id": "b5Ej-HLGVrWZ"
      },
      "source": [
        "## Defining and Training the model\n",
        "\n",
        "### Definition of the model"
      ]
    },
    {
      "cell_type": "code",
      "metadata": {
        "cellView": "both",
        "id": "Evjf8jZk2zi-",
        "colab": {
          "base_uri": "https://localhost:8080/"
        },
        "outputId": "efec2e95-2cd1-4942-c7ea-9e2347a7ee35"
      },
      "source": [
        "model = tf.keras.models.Sequential([\n",
        "    tf.keras.layers.Conv2D(64, (3,3), activation='relu', input_shape=(28, 28, 1)),\n",
        "    tf.keras.layers.MaxPooling2D(2, 2),\n",
        "\n",
        "    tf.keras.layers.Dropout(0.5),\n",
        "    tf.keras.layers.Flatten(),\n",
        "\n",
        "    tf.keras.layers.Dense(64, activation='relu'),\n",
        "    tf.keras.layers.Dense(10, activation='softmax')\n",
        "])\n",
        "model.compile(optimizer='adam',\n",
        "              loss=tf.keras.losses.SparseCategoricalCrossentropy(from_logits=True),\n",
        "              metrics=['accuracy'])\n",
        "model.summary()"
      ],
      "execution_count": 86,
      "outputs": [
        {
          "output_type": "stream",
          "text": [
            "Model: \"sequential_29\"\n",
            "_________________________________________________________________\n",
            "Layer (type)                 Output Shape              Param #   \n",
            "=================================================================\n",
            "conv2d_34 (Conv2D)           (None, 26, 26, 64)        640       \n",
            "_________________________________________________________________\n",
            "max_pooling2d_34 (MaxPooling (None, 13, 13, 64)        0         \n",
            "_________________________________________________________________\n",
            "dropout_29 (Dropout)         (None, 13, 13, 64)        0         \n",
            "_________________________________________________________________\n",
            "flatten_29 (Flatten)         (None, 10816)             0         \n",
            "_________________________________________________________________\n",
            "dense_84 (Dense)             (None, 64)                692288    \n",
            "_________________________________________________________________\n",
            "dense_85 (Dense)             (None, 10)                650       \n",
            "=================================================================\n",
            "Total params: 693,578\n",
            "Trainable params: 693,578\n",
            "Non-trainable params: 0\n",
            "_________________________________________________________________\n"
          ],
          "name": "stdout"
        }
      ]
    },
    {
      "cell_type": "markdown",
      "metadata": {
        "id": "N06iqE8VVrWj"
      },
      "source": [
        "### Training the model"
      ]
    },
    {
      "cell_type": "code",
      "metadata": {
        "id": "tk5NT1PW3j_P",
        "colab": {
          "base_uri": "https://localhost:8080/"
        },
        "outputId": "675f7d85-950d-499a-e497-4392b404999c"
      },
      "source": [
        "def train_model(model, train_features, train_label, epochs,\n",
        "                batch_size=None, validation_split=0.1):\n",
        "  history = model.fit(x=train_features, y=train_label, batch_size=batch_size,\n",
        "                      epochs=epochs, shuffle=True, \n",
        "                      validation_split=validation_split, verbose=1)\n",
        "  \n",
        "  epochs = history.epoch\n",
        "  hist = pd.DataFrame(history.history)\n",
        "\n",
        "  return epochs, hist \n",
        "\n",
        "learning_rate = 0.005\n",
        "epochs = 25\n",
        "batch_size = 300\n",
        "validation_split = 0.1\n",
        "\n",
        "epochs, hist = train_model(model, x_train_normalized, y_train, \n",
        "                           epochs, batch_size, validation_split)"
      ],
      "execution_count": 87,
      "outputs": [
        {
          "output_type": "stream",
          "text": [
            "Epoch 1/25\n",
            "126/126 [==============================] - 3s 18ms/step - loss: 0.7733 - accuracy: 0.7766 - val_loss: 0.1726 - val_accuracy: 0.9500\n",
            "Epoch 2/25\n",
            "126/126 [==============================] - 2s 15ms/step - loss: 0.1569 - accuracy: 0.9555 - val_loss: 0.1076 - val_accuracy: 0.9664\n",
            "Epoch 3/25\n",
            "126/126 [==============================] - 2s 14ms/step - loss: 0.1014 - accuracy: 0.9699 - val_loss: 0.0818 - val_accuracy: 0.9738\n",
            "Epoch 4/25\n",
            "126/126 [==============================] - 2s 14ms/step - loss: 0.0809 - accuracy: 0.9763 - val_loss: 0.0691 - val_accuracy: 0.9764\n",
            "Epoch 5/25\n",
            "126/126 [==============================] - 2s 15ms/step - loss: 0.0644 - accuracy: 0.9811 - val_loss: 0.0651 - val_accuracy: 0.9800\n",
            "Epoch 6/25\n",
            "126/126 [==============================] - 2s 15ms/step - loss: 0.0583 - accuracy: 0.9817 - val_loss: 0.0582 - val_accuracy: 0.9814\n",
            "Epoch 7/25\n",
            "126/126 [==============================] - 2s 15ms/step - loss: 0.0521 - accuracy: 0.9840 - val_loss: 0.0537 - val_accuracy: 0.9819\n",
            "Epoch 8/25\n",
            "126/126 [==============================] - 2s 15ms/step - loss: 0.0444 - accuracy: 0.9863 - val_loss: 0.0553 - val_accuracy: 0.9821\n",
            "Epoch 9/25\n",
            "126/126 [==============================] - 2s 15ms/step - loss: 0.0386 - accuracy: 0.9875 - val_loss: 0.0481 - val_accuracy: 0.9857\n",
            "Epoch 10/25\n",
            "126/126 [==============================] - 2s 15ms/step - loss: 0.0334 - accuracy: 0.9894 - val_loss: 0.0545 - val_accuracy: 0.9807\n",
            "Epoch 11/25\n",
            "126/126 [==============================] - 2s 14ms/step - loss: 0.0350 - accuracy: 0.9892 - val_loss: 0.0451 - val_accuracy: 0.9864\n",
            "Epoch 12/25\n",
            "126/126 [==============================] - 2s 15ms/step - loss: 0.0288 - accuracy: 0.9910 - val_loss: 0.0520 - val_accuracy: 0.9843\n",
            "Epoch 13/25\n",
            "126/126 [==============================] - 2s 15ms/step - loss: 0.0254 - accuracy: 0.9921 - val_loss: 0.0444 - val_accuracy: 0.9843\n",
            "Epoch 14/25\n",
            "126/126 [==============================] - 2s 15ms/step - loss: 0.0232 - accuracy: 0.9917 - val_loss: 0.0424 - val_accuracy: 0.9881\n",
            "Epoch 15/25\n",
            "126/126 [==============================] - 2s 14ms/step - loss: 0.0224 - accuracy: 0.9920 - val_loss: 0.0423 - val_accuracy: 0.9869\n",
            "Epoch 16/25\n",
            "126/126 [==============================] - 2s 14ms/step - loss: 0.0202 - accuracy: 0.9936 - val_loss: 0.0440 - val_accuracy: 0.9857\n",
            "Epoch 17/25\n",
            "126/126 [==============================] - 2s 14ms/step - loss: 0.0175 - accuracy: 0.9949 - val_loss: 0.0422 - val_accuracy: 0.9874\n",
            "Epoch 18/25\n",
            "126/126 [==============================] - 2s 15ms/step - loss: 0.0175 - accuracy: 0.9943 - val_loss: 0.0447 - val_accuracy: 0.9879\n",
            "Epoch 19/25\n",
            "126/126 [==============================] - 2s 15ms/step - loss: 0.0172 - accuracy: 0.9945 - val_loss: 0.0469 - val_accuracy: 0.9857\n",
            "Epoch 20/25\n",
            "126/126 [==============================] - 2s 15ms/step - loss: 0.0164 - accuracy: 0.9948 - val_loss: 0.0424 - val_accuracy: 0.9869\n",
            "Epoch 21/25\n",
            "126/126 [==============================] - 2s 15ms/step - loss: 0.0142 - accuracy: 0.9955 - val_loss: 0.0380 - val_accuracy: 0.9876\n",
            "Epoch 22/25\n",
            "126/126 [==============================] - 2s 15ms/step - loss: 0.0142 - accuracy: 0.9949 - val_loss: 0.0406 - val_accuracy: 0.9864\n",
            "Epoch 23/25\n",
            "126/126 [==============================] - 2s 15ms/step - loss: 0.0145 - accuracy: 0.9954 - val_loss: 0.0410 - val_accuracy: 0.9879\n",
            "Epoch 24/25\n",
            "126/126 [==============================] - 2s 15ms/step - loss: 0.0106 - accuracy: 0.9965 - val_loss: 0.0449 - val_accuracy: 0.9855\n",
            "Epoch 25/25\n",
            "126/126 [==============================] - 2s 15ms/step - loss: 0.0109 - accuracy: 0.9963 - val_loss: 0.0380 - val_accuracy: 0.9888\n"
          ],
          "name": "stdout"
        }
      ]
    },
    {
      "cell_type": "markdown",
      "metadata": {
        "id": "1PCfRtYxihp3"
      },
      "source": [
        "### Visualizing the results"
      ]
    },
    {
      "cell_type": "code",
      "metadata": {
        "colab": {
          "base_uri": "https://localhost:8080/",
          "height": 279
        },
        "id": "cJJROYBtakTq",
        "outputId": "fa9f6290-a65c-495a-cc1d-ace9de1eda6c"
      },
      "source": [
        "def plot_curve(epochs, hist, list_of_metrics):\n",
        "  plt.figure()\n",
        "  plt.xlabel(\"Epoch\")\n",
        "  plt.ylabel(\"Value\")\n",
        "  for m in list_of_metrics:\n",
        "    x = hist[m]\n",
        "    plt.plot(epochs[1:], x[1:], label=m)\n",
        "  plt.legend()\n",
        "  \n",
        "list_of_metrics_to_plot = ['accuracy']\n",
        "plot_curve(epochs, hist, list_of_metrics_to_plot)"
      ],
      "execution_count": 88,
      "outputs": [
        {
          "output_type": "display_data",
          "data": {
            "image/png": "[encoded data removed]",
            "text/plain": [
              "<Figure size 432x288 with 1 Axes>"
            ]
          },
          "metadata": {
            "tags": [],
            "needs_background": "light"
          }
        }
      ]
    },
    {
      "cell_type": "markdown",
      "metadata": {
        "id": "C2-ZdQJAg27-"
      },
      "source": [
        "## Running our model on the test set"
      ]
    },
    {
      "cell_type": "code",
      "metadata": {
        "colab": {
          "base_uri": "https://localhost:8080/",
          "height": 17
        },
        "id": "t4K3y_MVhlLy",
        "outputId": "4e64ad49-09e5-4b4d-b7b2-2004336fc725"
      },
      "source": [
        "from google.colab import files\n",
        "\n",
        "raw = model.predict(x_test_normalized)\n",
        "predictions = list(map(np.argmax, raw))\n",
        "data = {\n",
        "    \"ImageId\": [i for i in range(1, len(predictions) + 1)],\n",
        "    \"Label\": predictions\n",
        "}\n",
        "df = pd.DataFrame(data, columns = ['ImageId','Label'])\n",
        "\n",
        "df.to_csv('predictions.csv', index=False) \n",
        "files.download('predictions.csv')\n",
        "\n",
        "# accuracy of 98.6 on the test set given by kaggle: https://www.kaggle.com/c/digit-recognizer/"
      ],
      "execution_count": 91,
      "outputs": [
        {
          "output_type": "display_data",
          "data": {
            "application/javascript": [
              "\n",
              "    async function download(id, filename, size) {\n",
              "      if (!google.colab.kernel.accessAllowed) {\n",
              "        return;\n",
              "      }\n",
              "      const div = document.createElement('div');\n",
              "      const label = document.createElement('label');\n",
              "      label.textContent = `Downloading \"${filename}\": `;\n",
              "      div.appendChild(label);\n",
              "      const progress = document.createElement('progress');\n",
              "      progress.max = size;\n",
              "      div.appendChild(progress);\n",
              "      document.body.appendChild(div);\n",
              "\n",
              "      const buffers = [];\n",
              "      let downloaded = 0;\n",
              "\n",
              "      const channel = await google.colab.kernel.comms.open(id);\n",
              "      // Send a message to notify the kernel that we're ready.\n",
              "      channel.send({})\n",
              "\n",
              "      for await (const message of channel.messages) {\n",
              "        // Send a message to notify the kernel that we're ready.\n",
              "        channel.send({})\n",
              "        if (message.buffers) {\n",
              "          for (const buffer of message.buffers) {\n",
              "            buffers.push(buffer);\n",
              "            downloaded += buffer.byteLength;\n",
              "            progress.value = downloaded;\n",
              "          }\n",
              "        }\n",
              "      }\n",
              "      const blob = new Blob(buffers, {type: 'application/binary'});\n",
              "      const a = document.createElement('a');\n",
              "      a.href = window.URL.createObjectURL(blob);\n",
              "      a.download = filename;\n",
              "      div.appendChild(a);\n",
              "      a.click();\n",
              "      div.remove();\n",
              "    }\n",
              "  "
            ],
            "text/plain": [
              "<IPython.core.display.Javascript object>"
            ]
          },
          "metadata": {
            "tags": []
          }
        },
        {
          "output_type": "display_data",
          "data": {
            "application/javascript": [
              "download(\"download_567d42ce-8ccc-41b5-8bcf-d54de7c0212b\", \"predictions.csv\", 212908)"
            ],
            "text/plain": [
              "<IPython.core.display.Javascript object>"
            ]
          },
          "metadata": {
            "tags": []
          }
        }
      ]
    }
  ]
}